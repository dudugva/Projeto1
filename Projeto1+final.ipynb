{
 "cells": [
  {
   "cell_type": "markdown",
   "metadata": {},
   "source": [
    "___\n",
    "# Ciência dos Dados - PROJETO 1"
   ]
  },
  {
   "cell_type": "markdown",
   "metadata": {},
   "source": [
    "## Eduardo Vaz\n",
    "___"
   ]
  },
  {
   "cell_type": "markdown",
   "metadata": {},
   "source": [
    "## Trabalho Infantil x Desenvolvimento da Educação entre os anos 2011 e 2015"
   ]
  },
  {
   "cell_type": "markdown",
   "metadata": {},
   "source": [
    "___\n",
    "## Introdução\n",
    "\n",
    "O projeto busca analisar o recorte das crianças de 5 a 9 anos que trabalham e dentro deste, analisar o desenvolvimento de sua educação, analisando os dados de saber ler e escrever e usando também os dados de frequência escolar, que pode nos dar uma visão melhor sobre essas crianças não frequentando a escola para trabalhar.\n"
   ]
  },
  {
   "cell_type": "markdown",
   "metadata": {},
   "source": [
    "___\n",
    "## Filtros da base de dados"
   ]
  },
  {
   "cell_type": "code",
   "execution_count": 116,
   "metadata": {
    "collapsed": true
   },
   "outputs": [],
   "source": [
    "%matplotlib inline\n",
    "import pandas as pd\n",
    "import matplotlib.pyplot as plt\n",
    "import numpy as np\n",
    "import os"
   ]
  },
  {
   "cell_type": "code",
   "execution_count": 117,
   "metadata": {
    "collapsed": false
   },
   "outputs": [
    {
     "name": "stdout",
     "output_type": "stream",
     "text": [
      "Esperamos trabalhar no diretório\n",
      "C:\\Users\\Dudu Vaz\\Documents\\Insper\\2018\n"
     ]
    }
   ],
   "source": [
    "print('Esperamos trabalhar no diretório')\n",
    "print(os.getcwd())"
   ]
  },
  {
   "cell_type": "code",
   "execution_count": 118,
   "metadata": {
    "collapsed": false
   },
   "outputs": [],
   "source": [
    "#Se usar o arquivo descompactado\n",
    "data15 = pd.read_csv('PES2015.csv',sep=',')\n",
    "data11 = pd.read_csv('PES2011.csv',sep=',')\n",
    "#Se usar o arquivo compactado como está no dropbox púbico\n",
    "#pd.read_csv('PES2015csv.zip', compression='zip', header=0, sep=',', quotechar='\"')"
   ]
  },
  {
   "cell_type": "markdown",
   "metadata": {},
   "source": [
    "Filtrando 2015"
   ]
  },
  {
   "cell_type": "code",
   "execution_count": 119,
   "metadata": {
    "collapsed": false
   },
   "outputs": [],
   "source": [
    "#data15\n",
    "# data15 = data15.loc[:,[\"V4728\", \"V0701\",\"V3033\",\"V0702\",\"V0703\",\"V0704\",\"V0705\"]]\n",
    "data15 = data15.loc[:,[\"V0701\", \"V4728\",\"V0602\",\"V0601\",\"V4743\"]]\n",
    "# data15 = data15[data15.V4728 >=4]\n",
    "# data15 = data15[data15.V3033 >=2002]\n",
    "\n",
    "\n",
    "\n",
    "\n",
    "\n",
    "data15.V0701 = data15.V0701.astype(\"category\")\n",
    "data15.V0701.cat.categories = ('Sim', 'Não')\n",
    "data15.V0601 = data15.V0601.astype(\"category\")\n",
    "data15.V0601.cat.categories = ('Sim', 'Não')\n",
    "data15.V0602 = data15.V0602.astype(\"category\")\n",
    "data15.V0602.cat.categories = ('Sim', 'Não')\n",
    "\n",
    "\n",
    "\n",
    "\n",
    "\n",
    "\n",
    "\n",
    "\n",
    "data15 = data15.rename(columns = {\"V0701\":\"trabalho_infantil\",\"V4728\":\"regiao\",\"V0601\":\"sabe_ler\",\"V0602\":\"frequenta_escola\",\n",
    "                                  \"V4743\":\"Renda\"})\n",
    "\n",
    "\n",
    "data15urban = data15[(data15.regiao <=3)]\n",
    "data15agro = data15[(data15.regiao >= 4)]"
   ]
  },
  {
   "cell_type": "markdown",
   "metadata": {},
   "source": [
    "Filtrando 2011"
   ]
  },
  {
   "cell_type": "code",
   "execution_count": 120,
   "metadata": {
    "collapsed": false
   },
   "outputs": [],
   "source": [
    "#data11\n",
    "data11 = data11.loc[:,[\"V0701\", \"V4728\",\"V0602\",\"V0601\",\"V4743\"]]\n",
    "\n",
    "\n",
    "\n",
    "\n",
    "\n",
    "\n",
    "data11.V0701 = data11.V0701.astype(\"category\")\n",
    "data11.V0701.cat.categories = ('Sim', 'Não')\n",
    "data11.V0601 = data11.V0601.astype(\"category\")\n",
    "data11.V0601.cat.categories = ('Sim', 'Não')\n",
    "data11.V0602 = data11.V0602.astype(\"category\")\n",
    "data11.V0602.cat.categories = ('Sim', 'Não')\n",
    "\n",
    "\n",
    "\n",
    "\n",
    "\n",
    "\n",
    "\n",
    "data11 = data11.rename(columns = {\"V0701\":\"trabalho_infantil\",\"V4728\":\"regiao\",\"V0601\":\"sabe_ler\",\"V0602\":\"frequenta_escola\",\n",
    "                                  \"V4743\":\"Renda\"})\n",
    "\n",
    "\n",
    "data11urban = data11[(data11.regiao <=3)]\n",
    "data11agro = data11[(data11.regiao >= 4)]\n"
   ]
  },
  {
   "cell_type": "markdown",
   "metadata": {},
   "source": [
    "## 2011"
   ]
  },
  {
   "cell_type": "code",
   "execution_count": null,
   "metadata": {
    "collapsed": true
   },
   "outputs": [],
   "source": []
  },
  {
   "cell_type": "code",
   "execution_count": 128,
   "metadata": {
    "collapsed": false
   },
   "outputs": [
    {
     "data": {
      "image/png": "[encoded data removed]",
      "text/plain": [
       "<matplotlib.figure.Figure at 0x19a8e54ba58>"
      ]
     },
     "metadata": {},
     "output_type": "display_data"
    },
    {
     "data": {
      "image/png": "[encoded data removed]",
      "text/plain": [
       "<matplotlib.figure.Figure at 0x19a8df1e4e0>"
      ]
     },
     "metadata": {},
     "output_type": "display_data"
    },
    {
     "data": {
      "text/plain": [
       "<matplotlib.figure.Figure at 0x19a8d8421d0>"
      ]
     },
     "metadata": {},
     "output_type": "display_data"
    }
   ],
   "source": [
    "#rural\n",
    "\n",
    "agesgr11 = data11agro.sabe_ler.value_counts(True)*100\n",
    "\n",
    "plt.subplot(121)\n",
    "plot = agesgr11.plot(kind ='bar', color = ('red','blue','green','orange'))\n",
    "plt.title(\"Distribuição Rural da Variavel: Saber Ler e Escrever\")\n",
    "plt.ylabel(\"%\")\n",
    "\n",
    "fig = plt.figure(figsize=(12,5))\n",
    "\n",
    "\n",
    "#urbano\n",
    "\n",
    "urbesgr11 = data11urban.sabe_ler.value_counts(True)*100\n",
    "\n",
    "plt.subplot(121)\n",
    "plot = urbesgr11.plot(kind ='bar', color = ('red','blue','green','orange'))\n",
    "plt.title(\"Distribuição Urbana da Variavel: Saber Ler e Escrever\")\n",
    "plt.ylabel(\"%\")\n",
    "\n",
    "fig = plt.figure(figsize=(12,5))\n"
   ]
  },
  {
   "cell_type": "markdown",
   "metadata": {},
   "source": [
    "## Análise"
   ]
  },
  {
   "cell_type": "markdown",
   "metadata": {},
   "source": [
    "Vemos em 2011 os gráficos de sabedoria de ler e escrever nas áreas rural e urbana. Para a área rural vemos uma distribuição de aproximadamente 25% das crianças que trabalham que não sabem ler e escrever, um valor que deve muito provavelmente estar associado ao desenvolvimento e investimento feito pelos governos nessas áreas. Mas que também não é um número que chegue a assustar, a imagem produzida sobre o trabalho em áreas rurais nos faz acreditar que esse valor pudesse ser ainda maior.\n",
    "\n",
    "A área urbana em relação a área rural já apresenta valores um pouco mais esperados, menos de 20% das crianças não sabe ler e escrever, estar em um ambiente urbano está obrigatóriamente associado à questão de desenvolvimento, emprego e investimento na área."
   ]
  },
  {
   "cell_type": "code",
   "execution_count": 132,
   "metadata": {
    "collapsed": false
   },
   "outputs": [
    {
     "data": {
      "image/png": "[encoded data removed]",
      "text/plain": [
       "<matplotlib.figure.Figure at 0x19a8d334e48>"
      ]
     },
     "metadata": {},
     "output_type": "display_data"
    },
    {
     "data": {
      "image/png": "[encoded data removed]",
      "text/plain": [
       "<matplotlib.figure.Figure at 0x19a8d9a3828>"
      ]
     },
     "metadata": {},
     "output_type": "display_data"
    },
    {
     "data": {
      "text/plain": [
       "<matplotlib.figure.Figure at 0x19a8d825a58>"
      ]
     },
     "metadata": {},
     "output_type": "display_data"
    }
   ],
   "source": [
    "#rural\n",
    "\n",
    "agrofreq11 = data11agro.frequenta_escola.value_counts(True)*100\n",
    "\n",
    "plt.subplot(121)\n",
    "plot = agrofreq11.plot(kind ='bar', color = ('red','blue','green','orange'))\n",
    "plt.title(\"Distribuição Rural da Frequencia Escolar\")\n",
    "plt.ylabel(\"%\")\n",
    "\n",
    "fig = plt.figure(figsize=(12,5))\n",
    "\n",
    "\n",
    "#urbano\n",
    "\n",
    "urbfreq11 = data11urban.frequenta_escola.value_counts(True)*100\n",
    "\n",
    "plt.subplot(121)\n",
    "plot = urbfreq11.plot(kind ='bar', color = ('red','blue','green','orange'))\n",
    "plt.title(\"Distribuição Urbana da Frequencia Escolar\")\n",
    "plt.ylabel(\"%\")\n",
    "\n",
    "fig = plt.figure(figsize=(12,5))\n",
    "\n"
   ]
  },
  {
   "cell_type": "markdown",
   "metadata": {},
   "source": [
    "## Análise"
   ]
  },
  {
   "cell_type": "markdown",
   "metadata": {},
   "source": [
    "Análisando agora não só essa sabedoria de ler e escrever, vamos olhar se isso se reflete na frequência dessas crianças que trabalham nas áreas rural e urbana. Começando pela Rural, podemos ver que a maioria não frequenta, os quase 70% registrados no gráfico mostram que essas crianças que trabalham não conseguem fazer as duas coisas nessas áreas, mesmo possuindo um registro de pouco mais de 30% que supostamente conseguem realizar as duas funções.\n",
    "\n",
    "Ao entrar na área urbana, vemos o reajuste já esperado depois de fazer a analise do saber ler e escrever, os números ficam bem parelhos, mostrando que provavelmente possuir ou não a escola no local de trabalho dessas crianças não é necessariamente um fator que modifica essas variáveis, locais com menos investimento e desenvolvimento como nas áreas rurais possuem frequência bem parelha com a área urbana."
   ]
  },
  {
   "cell_type": "markdown",
   "metadata": {},
   "source": [
    "## 2015"
   ]
  },
  {
   "cell_type": "markdown",
   "metadata": {},
   "source": [
    "## Distribuição da Variável \"Saber Ler e Escrever\" nas crianças trabalhadoras nas áreas Rurais e Urbana."
   ]
  },
  {
   "cell_type": "code",
   "execution_count": 129,
   "metadata": {
    "collapsed": false
   },
   "outputs": [
    {
     "data": {
      "image/png": "[encoded data removed]",
      "text/plain": [
       "<matplotlib.figure.Figure at 0x19a8e7e59e8>"
      ]
     },
     "metadata": {},
     "output_type": "display_data"
    },
    {
     "data": {
      "image/png": "[encoded data removed]",
      "text/plain": [
       "<matplotlib.figure.Figure at 0x19a8e52f940>"
      ]
     },
     "metadata": {},
     "output_type": "display_data"
    },
    {
     "data": {
      "text/plain": [
       "<matplotlib.figure.Figure at 0x19a8d7ed2e8>"
      ]
     },
     "metadata": {},
     "output_type": "display_data"
    }
   ],
   "source": [
    "#rural\n",
    "\n",
    "agesgr = data15agro.sabe_ler.value_counts(True)*100\n",
    "\n",
    "plt.subplot(121)\n",
    "plot = agesgr.plot(kind ='bar', color = ('red','blue','green','orange'))\n",
    "plt.title(\"Distribuição Rural da educação infantil\")\n",
    "plt.ylabel(\"%\")\n",
    "\n",
    "fig = plt.figure(figsize=(12,5))\n",
    "\n",
    "\n",
    "#urbano\n",
    "\n",
    "urbesgr = data15urban.sabe_ler.value_counts(True)*100\n",
    "\n",
    "plt.subplot(121)\n",
    "plot = urbesgr.plot(kind ='bar', color = ('red','blue','green','orange'))\n",
    "plt.title(\"Distribuição Urbana da Variavel: Saber Ler e Escrever\")\n",
    "plt.ylabel(\"%\")\n",
    "\n",
    "fig = plt.figure(figsize=(12,5))\n",
    "\n"
   ]
  },
  {
   "cell_type": "markdown",
   "metadata": {},
   "source": [
    "# Análise\n",
    "\n",
    "Os gráficos gerados nos mostram uma leve diferença entre as áreas urbana e rural. A maioria das Crianças sabem ler e escrever nas duas áreas. E há uma leve diferença entre as porcentagens das duas áreas. Como já esperado, a área urbana, por ter maior desenvolvimento e investimento, tem maior porcentagem das crianças que sabem ler e escrever e ao mesmo tempo, trabalham."
   ]
  },
  {
   "cell_type": "code",
   "execution_count": 130,
   "metadata": {
    "collapsed": false
   },
   "outputs": [
    {
     "data": {
      "image/png": "[encoded data removed]",
      "text/plain": [
       "<matplotlib.figure.Figure at 0x19a8e32e940>"
      ]
     },
     "metadata": {},
     "output_type": "display_data"
    },
    {
     "data": {
      "image/png": "[encoded data removed]",
      "text/plain": [
       "<matplotlib.figure.Figure at 0x19a8dba6208>"
      ]
     },
     "metadata": {},
     "output_type": "display_data"
    },
    {
     "data": {
      "text/plain": [
       "<matplotlib.figure.Figure at 0x19a8d95fe10>"
      ]
     },
     "metadata": {},
     "output_type": "display_data"
    }
   ],
   "source": [
    "#rural\n",
    "\n",
    "agrofreq = data15agro.frequenta_escola.value_counts(True)*100\n",
    "\n",
    "plt.subplot(121)\n",
    "plot = agrofreq.plot(kind ='bar', color = ('red','blue','green','orange'))\n",
    "plt.title(\"Distribuição Rural da Frequencia Escolar\")\n",
    "plt.ylabel(\"%\")\n",
    "\n",
    "fig = plt.figure(figsize=(12,5))\n",
    "\n",
    "\n",
    "#urbano\n",
    "\n",
    "urbfreq = data15urban.frequenta_escola.value_counts(True)*100\n",
    "\n",
    "plt.subplot(121)\n",
    "plot = urbfreq.plot(kind ='bar', color = ('red','blue','green','orange'))\n",
    "plt.title(\"Distribuição Urbana da Frequencia Escolar\")\n",
    "plt.ylabel(\"%\")\n",
    "\n",
    "fig = plt.figure(figsize=(12,5))\n",
    "\n"
   ]
  },
  {
   "cell_type": "markdown",
   "metadata": {},
   "source": [
    "## Análise\n",
    "\n",
    "Agora entramos em uma questão que envolve mais saber se ao mesmo tempo que trabalham, essas crianças conseguem estudar. E o que se esperava acontece aqui, a maioria das crianças que trabalham não tem frequência escolar, essa diferença é menor do que no gráfico anterior, mas de qualquer jeito, mais de 70% nas duas áreas apresentam esse dado. A diferença das duas áreas por sua vez é praticamente nula. Provavelmente devido à esta vairável não envolver necessariamente desenvolvimento ou investimento espacial e sim, a simples presença dessas crianças na escola."
   ]
  },
  {
   "cell_type": "code",
   "execution_count": null,
   "metadata": {
    "collapsed": false,
    "scrolled": true
   },
   "outputs": [],
   "source": []
  },
  {
   "cell_type": "markdown",
   "metadata": {},
   "source": [
    "___\n",
    "## Comparativo"
   ]
  },
  {
   "cell_type": "code",
   "execution_count": 135,
   "metadata": {
    "collapsed": false
   },
   "outputs": [
    {
     "data": {
      "image/png": "[encoded data removed]",
      "text/plain": [
       "<matplotlib.figure.Figure at 0x19a8d8570f0>"
      ]
     },
     "metadata": {},
     "output_type": "display_data"
    },
    {
     "data": {
      "image/png": "[encoded data removed]",
      "text/plain": [
       "<matplotlib.figure.Figure at 0x19a8dc6b1d0>"
      ]
     },
     "metadata": {},
     "output_type": "display_data"
    },
    {
     "data": {
      "text/plain": [
       "<matplotlib.figure.Figure at 0x19a8d55b0f0>"
      ]
     },
     "metadata": {},
     "output_type": "display_data"
    }
   ],
   "source": [
    "#rural\n",
    "\n",
    "agesgr11 = data11agro.sabe_ler.value_counts(True)*100\n",
    "\n",
    "plt.subplot(121)\n",
    "plot = agesgr11.plot(kind ='bar', color = ('red','blue','green','orange'))\n",
    "plt.title(\"Distribuição Rural da Variavel: Saber Ler e Escrever\")\n",
    "plt.ylabel(\"%\")\n",
    "\n",
    "fig = plt.figure(figsize=(12,5))\n",
    "\n",
    "#rural\n",
    "\n",
    "agesgr = data15agro.sabe_ler.value_counts(True)*100\n",
    "\n",
    "plt.subplot(121)\n",
    "plot = agesgr.plot(kind ='bar', color = ('red','blue','green','orange'))\n",
    "plt.title(\"Distribuição Rural da educação infantil\")\n",
    "plt.ylabel(\"%\")\n",
    "\n",
    "fig = plt.figure(figsize=(12,5))\n",
    "\n"
   ]
  },
  {
   "cell_type": "markdown",
   "metadata": {
    "collapsed": true
   },
   "source": [
    "Para concluir a comparação, colocamos o ano de 2011 e de 2015 lado a lado, em 5 anos praticamente não houve mudança no número de crianças que trabalham e que sabem ler e escrever, claramente não houve mobilização contra o trabalho infantil e em prol da educação infantil. Dados críticos que ficaram estagnados."
   ]
  },
  {
   "cell_type": "code",
   "execution_count": 138,
   "metadata": {
    "collapsed": false
   },
   "outputs": [
    {
     "data": {
      "image/png": "[encoded data removed]",
      "text/plain": [
       "<matplotlib.figure.Figure at 0x19a8d5a8630>"
      ]
     },
     "metadata": {},
     "output_type": "display_data"
    },
    {
     "data": {
      "image/png": "[encoded data removed]",
      "text/plain": [
       "<matplotlib.figure.Figure at 0x19a8db7c320>"
      ]
     },
     "metadata": {},
     "output_type": "display_data"
    },
    {
     "data": {
      "text/plain": [
       "<matplotlib.figure.Figure at 0x19a8cdcc470>"
      ]
     },
     "metadata": {},
     "output_type": "display_data"
    }
   ],
   "source": [
    "urbesgr11 = data11urban.sabe_ler.value_counts(True)*100\n",
    "\n",
    "plt.subplot(121)\n",
    "plot = urbesgr11.plot(kind ='bar', color = ('red','blue','green','orange'))\n",
    "plt.title(\"Distribuição Urbana da Variavel: Saber Ler e Escrever\")\n",
    "plt.ylabel(\"%\")\n",
    "\n",
    "fig = plt.figure(figsize=(12,5))\n",
    "\n",
    "#urbano\n",
    "\n",
    "urbesgr = data15urban.sabe_ler.value_counts(True)*100\n",
    "\n",
    "plt.subplot(121)\n",
    "plot = urbesgr.plot(kind ='bar', color = ('red','blue','green','orange'))\n",
    "plt.title(\"Distribuição Urbana da Variavel: Saber Ler e Escrever\")\n",
    "plt.ylabel(\"%\")\n",
    "\n",
    "fig = plt.figure(figsize=(12,5))\n"
   ]
  },
  {
   "cell_type": "markdown",
   "metadata": {},
   "source": [
    "Na área urbana, conseguimos ver algum avanço em relação as crianças que sabem ler e escrever, como a região urbana é um local mais visado, de maior fiscalização e investimento no desenvolvimento, isso pode ter contribuido."
   ]
  },
  {
   "cell_type": "code",
   "execution_count": 137,
   "metadata": {
    "collapsed": false
   },
   "outputs": [
    {
     "data": {
      "image/png": "[encoded data removed]",
      "text/plain": [
       "<matplotlib.figure.Figure at 0x19a8d80ff60>"
      ]
     },
     "metadata": {},
     "output_type": "display_data"
    },
    {
     "data": {
      "image/png": "[encoded data removed]",
      "text/plain": [
       "<matplotlib.figure.Figure at 0x19a8d8d4be0>"
      ]
     },
     "metadata": {},
     "output_type": "display_data"
    },
    {
     "data": {
      "text/plain": [
       "<matplotlib.figure.Figure at 0x19a8db17748>"
      ]
     },
     "metadata": {},
     "output_type": "display_data"
    }
   ],
   "source": [
    "agrofreq11 = data11agro.frequenta_escola.value_counts(True)*100\n",
    "\n",
    "plt.subplot(121)\n",
    "plot = agrofreq11.plot(kind ='bar', color = ('red','blue','green','orange'))\n",
    "plt.title(\"Distribuição Rural da Frequencia Escolar\")\n",
    "plt.ylabel(\"%\")\n",
    "\n",
    "fig = plt.figure(figsize=(12,5))\n",
    "\n",
    "\n",
    "#rural\n",
    "\n",
    "agrofreq = data15agro.frequenta_escola.value_counts(True)*100\n",
    "\n",
    "plt.subplot(121)\n",
    "plot = agrofreq.plot(kind ='bar', color = ('red','blue','green','orange'))\n",
    "plt.title(\"Distribuição Rural da Frequencia Escolar\")\n",
    "plt.ylabel(\"%\")\n",
    "\n",
    "fig = plt.figure(figsize=(12,5))\n",
    "\n",
    "\n"
   ]
  },
  {
   "cell_type": "markdown",
   "metadata": {},
   "source": [
    "No caso da frequência escolar na área rural, houve pequeno retrocesso, cresceu o número de criança que não frequentam a escola."
   ]
  },
  {
   "cell_type": "code",
   "execution_count": 136,
   "metadata": {
    "collapsed": false
   },
   "outputs": [
    {
     "data": {
      "image/png": "[encoded data removed]",
      "text/plain": [
       "<matplotlib.figure.Figure at 0x19a8d7ec4e0>"
      ]
     },
     "metadata": {},
     "output_type": "display_data"
    },
    {
     "data": {
      "image/png": "[encoded data removed]",
      "text/plain": [
       "<matplotlib.figure.Figure at 0x19a8d80fa20>"
      ]
     },
     "metadata": {},
     "output_type": "display_data"
    },
    {
     "data": {
      "text/plain": [
       "<matplotlib.figure.Figure at 0x19a8dc57fd0>"
      ]
     },
     "metadata": {},
     "output_type": "display_data"
    }
   ],
   "source": [
    "#urbano\n",
    "\n",
    "urbfreq11 = data11urban.frequenta_escola.value_counts(True)*100\n",
    "\n",
    "plt.subplot(121)\n",
    "plot = urbfreq11.plot(kind ='bar', color = ('red','blue','green','orange'))\n",
    "plt.title(\"Distribuição Urbana da Frequencia Escolar\")\n",
    "plt.ylabel(\"%\")\n",
    "\n",
    "fig = plt.figure(figsize=(12,5))\n",
    "\n",
    "\n",
    "\n",
    "\n",
    "#urbano\n",
    "\n",
    "urbfreq = data15urban.frequenta_escola.value_counts(True)*100\n",
    "\n",
    "plt.subplot(121)\n",
    "plot = urbfreq.plot(kind ='bar', color = ('red','blue','green','orange'))\n",
    "plt.title(\"Distribuição Urbana da Frequencia Escolar\")\n",
    "plt.ylabel(\"%\")\n",
    "\n",
    "fig = plt.figure(figsize=(12,5))\n",
    "\n"
   ]
  },
  {
   "cell_type": "markdown",
   "metadata": {},
   "source": [
    "Na área urbana podemos analisar também a pouca diferença entre os anos, um dos fatores que pode estar associado à isso é a situação economica do Brasil, que não contribuiu para familias tirarem os filhos do trabalho e colocarem na escola."
   ]
  },
  {
   "cell_type": "markdown",
   "metadata": {},
   "source": [
    "___\n",
    "## Conclusão "
   ]
  },
  {
   "cell_type": "markdown",
   "metadata": {
    "collapsed": true
   },
   "source": [
    "Descreva aqui suas conclusões!"
   ]
  },
  {
   "cell_type": "markdown",
   "metadata": {
    "collapsed": true
   },
   "source": [
    "A educação entre os anos de 2011 e 2015 não teve uma mudança muito grande, em relação às crianças de 5 a 9 anos que trabalham, claro, é um recorte especifico, mas são pessoas analisadas que possuem grande mobilidade, podem de uma hora pra outra voltar a estudar. Os dados de saber e ler e escrever já era esperado que iam possuir uma mudança menos significativa uma vez que é um processo demorado de aprendizagem, muitas vezes os 5 anos de diferença das PNADs não são suficientes. A frequência é mais fácil de análisar, uma vez que é um dado estatistico mais claro, e houveram mudanças mais percipitiveis.\n",
    "\n",
    "Não houve necessidade de unir algum dado quantitativo uma vez que o recorte feito, de crianças de 5 a 9 anos que trabalham, e recortando isso em dois planos, de Rural e Urbano e então analisando um contra o outro é um recorte bem especifico já. Algum dado quantitativo como renda, ia servir apenas para possuir algum dado quantitativo, mas não iria contribuir para uma analise desse recorte.\n"
   ]
  },
  {
   "cell_type": "code",
   "execution_count": null,
   "metadata": {
    "collapsed": true
   },
   "outputs": [],
   "source": []
  }
 ],
 "metadata": {
  "anaconda-cloud": {},
  "kernelspec": {
   "display_name": "Python 3",
   "language": "python",
   "name": "python3"
  },
  "language_info": {
   "codemirror_mode": {
    "name": "ipython",
    "version": 3
   },
   "file_extension": ".py",
   "mimetype": "text/x-python",
   "name": "python",
   "nbconvert_exporter": "python",
   "pygments_lexer": "ipython3",
   "version": "3.6.0"
  }
 },
 "nbformat": 4,
 "nbformat_minor": 1
}
